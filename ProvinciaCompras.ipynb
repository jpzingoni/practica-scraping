{
 "cells": [
  {
   "cell_type": "markdown",
   "id": "772e665a-926c-4034-85a1-c978c6bc9949",
   "metadata": {},
   "source": [
    "- Se importan las librerias con las que se va a trabajar"
   ]
  },
  {
   "cell_type": "code",
   "execution_count": 1,
   "id": "00e86e98-0e21-4702-ba2a-b1c4436c1f66",
   "metadata": {},
   "outputs": [],
   "source": [
    "import requests\n",
    "from bs4 import BeautifulSoup\n",
    "import pandas as pd\n",
    "from unidecode import unidecode\n",
    "import time\n",
    "import base64\n",
    "import urllib.parse\n",
    "import urllib.request\n",
    "import json\n",
    "import copy"
   ]
  },
  {
   "cell_type": "markdown",
   "id": "30fef270-8595-4151-ab68-0c60f64b78b1",
   "metadata": {},
   "source": [
    "- Primero se acceder a la página de banco provincia para buscar la dirección de la api en los contenidos que carga la página.\n",
    "- Una vez que se identificó se copia el el codigo como \"curl (as bash)\" y se lo convierte para interpretarlo en python y de esta manera poder trabajarlo en Jupyer"
   ]
  },
  {
   "cell_type": "code",
   "execution_count": 2,
   "id": "5b73c89b-8ad3-47ef-9720-8d335d4d6251",
   "metadata": {},
   "outputs": [],
   "source": [
    "headers = {\n",
    "    'sec-ch-ua': '\"Chromium\";v=\"118\", \"Google Chrome\";v=\"118\", \"Not=A?Brand\";v=\"99\"',\n",
    "    'accept': '*/*',\n",
    "    'content-type': 'application/json',\n",
    "    'Referer': 'https://www.provinciacompras.com.ar/tecnologia',\n",
    "    'sec-ch-ua-mobile': '?0',\n",
    "    'User-Agent': 'Mozilla/5.0 (Windows NT 10.0; Win64; x64) AppleWebKit/537.36 (KHTML, like Gecko) Chrome/118.0.0.0 Safari/537.36',\n",
    "    'sec-ch-ua-platform': '\"Windows\"',\n",
    "}\n",
    "\n",
    "params = {\n",
    "    'workspace': 'master',\n",
    "    'maxAge': 'medium',\n",
    "    'appsEtag': 'remove',\n",
    "    'domain': 'store',\n",
    "    'locale': 'es-AR',\n",
    "    '__bindingId': '7780ff79-9028-4a9e-8025-3bec4cd24948',\n",
    "    'operationName': 'Categories',\n",
    "    'variables': '{}',\n",
    "    'extensions': '{\"persistedQuery\":{\"version\":1,\"sha256Hash\":\"944799ff7758ce9487059bfcf79ecd99c26b4343e04489ad0647678ba77e7a10\",\"sender\":\"baproar.components@0.x\",\"provider\":\"vtex.store-graphql@2.x\"}}',\n",
    "}\n",
    "\n",
    "response = requests.get('https://www.provinciacompras.com.ar/_v/segment/graphql/v1', params=params, headers=headers)"
   ]
  },
  {
   "cell_type": "markdown",
   "id": "7ed9f2a5-6f45-4670-8759-7c4f8d1b4672",
   "metadata": {},
   "source": [
    "- Se guarda la respuesta como un json para trabajar."
   ]
  },
  {
   "cell_type": "code",
   "execution_count": 3,
   "id": "b9504fb2-b61a-4e4b-bce3-7e1e7e735ec5",
   "metadata": {},
   "outputs": [],
   "source": [
    "data = response.json()[\"data\"]"
   ]
  },
  {
   "cell_type": "markdown",
   "id": "e395dda7-043f-4cba-a8eb-d72a62b5ef5b",
   "metadata": {},
   "source": [
    "- El json viene como un diccionario que contiene listas y más diccionarios dentro para trabjar.\n",
    "- Los productos están dividos por categorias que contienen subcategorias. El objetivo es conseguir el url de cada categoria particular para poder guardarlos.\n",
    "- Se crea una lista con las categorias principales y luego una lista con las subcategorias.\n",
    "- Si las subcategorias no tienen más categorias particulares se extrae directamente el href para crear la url y agregarlo a la lista de urls finalizados"
   ]
  },
  {
   "cell_type": "code",
   "execution_count": 4,
   "id": "f1bced9a-aa04-4253-9fab-231fca97f9b4",
   "metadata": {},
   "outputs": [],
   "source": [
    "categorias = data[\"categories\"]\n",
    "liCategoriasPrincipal = []\n",
    "liSubcategoria = []\n",
    "urlsFinalizado = []\n",
    "def dividirCategorias(categoriaPrincipal):\n",
    "    for categoria in categoriaPrincipal:\n",
    "        if(categoria[\"children\"]):\n",
    "            dictCategorias = {categoria[\"name\"]: categoria[\"children\"]}\n",
    "            liCategoriasPrincipal.append(dictCategorias)\n",
    "            for subCategoria in categoria[\"children\"]:\n",
    "                if(subCategoria[\"children\"]):\n",
    "                    dictSubcategoria = {subCategoria[\"name\"]: subCategoria[\"children\"]}\n",
    "                    liSubcategoria.append(dictSubcategoria)\n",
    "                else:\n",
    "                    linkSubcategoria = f\"https://www.provinciacompras.com.ar{subCategoria['href']}\"\n",
    "                    urlsFinalizado.append(linkSubcategoria)"
   ]
  },
  {
   "cell_type": "code",
   "execution_count": 5,
   "id": "27f4140f-ce26-436b-8da5-bf28b1725950",
   "metadata": {},
   "outputs": [],
   "source": [
    "dividirCategorias(categorias)"
   ]
  },
  {
   "cell_type": "markdown",
   "id": "d68ac804-498d-40a0-8ae0-d2fb98081684",
   "metadata": {},
   "source": [
    "- Se realiza el mismo procedimiento anterior para la lista subcategorias. Se divide el procedimiento en otro bucle for para que se lea más fácil"
   ]
  },
  {
   "cell_type": "code",
   "execution_count": 6,
   "id": "0fdcf5a4-7a69-4212-9cd9-78a289bc7238",
   "metadata": {},
   "outputs": [],
   "source": [
    "def dividirSubcategorias(subcategoria):\n",
    "    for cat in subcategoria:\n",
    "        #La respuesta de cada categoría viene en un diccionario, por lo que se realiza otro bucle for para recorrerlo.\n",
    "        for nameSubCategoria in cat:\n",
    "            #Cada respuesta viene en una lista, se la recorre para extraer el 'href' correspondiente\n",
    "            liLinksSubCategoria = [x[\"href\"] for x in cat[nameSubCategoria]]\n",
    "            #Con las lista de de 'href' obtenidos se agrega cada una a la lista ya existente de \"urlsFinalizados\"\n",
    "            for linkSubCategoria in liLinksSubCategoria:\n",
    "                urlsFinalizado.append(f\"https://www.provinciacompras.com.ar{linkSubCategoria}\")"
   ]
  },
  {
   "cell_type": "code",
   "execution_count": 7,
   "id": "cb34e2bd-aea9-43e5-8be4-10a525566000",
   "metadata": {},
   "outputs": [],
   "source": [
    "dividirSubcategorias(liSubcategoria)"
   ]
  },
  {
   "cell_type": "markdown",
   "id": "6e24a54e-184b-43b8-a8df-fcf4a9fc6c5d",
   "metadata": {},
   "source": [
    "- Se ordena la lista de urls alfabeticamente"
   ]
  },
  {
   "cell_type": "code",
   "execution_count": 8,
   "id": "69553160-474a-47bd-ae28-13993fb8f5b7",
   "metadata": {},
   "outputs": [],
   "source": [
    "urlsFinalizado.sort()"
   ]
  },
  {
   "cell_type": "markdown",
   "id": "a4cf3175-1d3a-424a-a628-5c4a5c22b026",
   "metadata": {},
   "source": [
    "    Analizando la API de ProvCompras dentro de los parámetros para realizar la query tiene un valor que se integra en el diccionario de la siguiente manera : {..., 'query': 'tecnologia/celulares-y-tablets/accesorios',...}. Por lo que se procede a extraer cada parte especifica de la url para obtener cada consulta de las categorias\n",
    "    Luego se guardan en una lista para usar en el futuro"
   ]
  },
  {
   "cell_type": "code",
   "execution_count": 9,
   "id": "8e1e9424-b900-409f-b555-7bad37024f37",
   "metadata": {},
   "outputs": [],
   "source": [
    "urlPrincipal = 'https://www.provinciacompras.com.ar/'\n",
    "liQueryCategoria = [url.replace(urlPrincipal, \"\") for url in urlsFinalizado]"
   ]
  },
  {
   "cell_type": "markdown",
   "id": "2f165e17-f9ab-471d-986f-ee9e9ab085d7",
   "metadata": {},
   "source": [
    "    Por una cuestión unicamente de orden se crea un diccionario con las categorias principales y que cada categoría contenga sus url, no es algo estrictamente necesario para realizar el procedimiento de extracción"
   ]
  },
  {
   "cell_type": "code",
   "execution_count": 10,
   "id": "c63560b3-e297-47d8-af05-6b3fadf5f66a",
   "metadata": {},
   "outputs": [],
   "source": [
    "dictQueryCategorias = {}\n",
    "for query in liQueryCategoria:\n",
    "    categoriaPrincipal = query.split(\"/\")[0]\n",
    "    if categoriaPrincipal in dictQueryCategorias:\n",
    "        dictQueryCategorias[categoriaPrincipal].append(query)\n",
    "    else:\n",
    "        dictQueryCategorias[categoriaPrincipal] = [query]"
   ]
  },
  {
   "cell_type": "markdown",
   "id": "af6770b0-8b01-41d1-bf3d-e033bfc8a127",
   "metadata": {},
   "source": [
    "- Luego de obtener todas las querys y las categorias se realiza un procedimientos para obtener las paquetes de los productos.\n",
    "- Primero se accede a la url de la API del primer link de la lista de urls de categorias.\n",
    "- Una vez que se accede se procede a desarmar la api para ver como son los requisitos de parametros que utiliza para poder realizar las consultas\n",
    "- Cuando se identifican los parámetros se relizan los distintos cambios para cada url y que la consulta no falle"
   ]
  },
  {
   "cell_type": "code",
   "execution_count": 11,
   "id": "91907e6e-7ad5-4278-91a9-dcde2fa5a4b4",
   "metadata": {},
   "outputs": [],
   "source": [
    "urlInicial = \"https://www.provinciacompras.com.ar/_v/segment/graphql/v1?workspace=master&maxAge=short&appsEtag=remove&domain=store&locale=es-AR&__bindingId=7780ff79-9028-4a9e-8025-3bec4cd24948&operationName=productSearchV3&variables=%7B%7D&extensions=%7B%22persistedQuery%22%3A%7B%22version%22%3A1%2C%22sha256Hash%22%3A%2240b843ca1f7934d20d05d334916220a0c2cae3833d9f17bcb79cdd2185adceac%22%2C%22sender%22%3A%22vtex.store-resources%400.x%22%2C%22provider%22%3A%22vtex.search-graphql%400.x%22%7D%2C%22variables%22%3A%22eyJoaWRlVW5hdmFpbGFibGVJdGVtcyI6dHJ1ZSwic2t1c0ZpbHRlciI6IkFMTCIsInNpbXVsYXRpb25CZWhhdmlvciI6ImRlZmF1bHQiLCJpbnN0YWxsbWVudENyaXRlcmlhIjoiTUFYX1dJVEhPVVRfSU5URVJFU1QiLCJwcm9kdWN0T3JpZ2luVnRleCI6ZmFsc2UsIm1hcCI6ImMsYyxjIiwicXVlcnkiOiJjYWx6YWRvL2ZlbWVuaW5vL2JvdGluZXMiLCJvcmRlckJ5IjoiT3JkZXJCeVNjb3JlREVTQyIsImZyb20iOjAsInRvIjoxNywic2VsZWN0ZWRGYWNldHMiOlt7ImtleSI6ImMiLCJ2YWx1ZSI6ImNhbHphZG8ifSx7ImtleSI6ImMiLCJ2YWx1ZSI6ImZlbWVuaW5vIn0seyJrZXkiOiJjIiwidmFsdWUiOiJib3RpbmVzIn1dLCJmYWNldHNCZWhhdmlvciI6IkR5bmFtaWMiLCJjYXRlZ29yeVRyZWVCZWhhdmlvciI6ImRlZmF1bHQiLCJ3aXRoRmFjZXRzIjpmYWxzZSwidmFyaWFudCI6IiJ9%22%7D\""
   ]
  },
  {
   "cell_type": "code",
   "execution_count": 12,
   "id": "f862ad5e-c6f8-4f74-9cb4-44977a8d2af3",
   "metadata": {},
   "outputs": [
    {
     "name": "stdout",
     "output_type": "stream",
     "text": [
      "ParseResult(scheme='https', netloc='www.provinciacompras.com.ar', path='/_v/segment/graphql/v1', params='', query='workspace=master&maxAge=short&appsEtag=remove&domain=store&locale=es-AR&__bindingId=7780ff79-9028-4a9e-8025-3bec4cd24948&operationName=productSearchV3&variables=%7B%7D&extensions=%7B%22persistedQuery%22%3A%7B%22version%22%3A1%2C%22sha256Hash%22%3A%2240b843ca1f7934d20d05d334916220a0c2cae3833d9f17bcb79cdd2185adceac%22%2C%22sender%22%3A%22vtex.store-resources%400.x%22%2C%22provider%22%3A%22vtex.search-graphql%400.x%22%7D%2C%22variables%22%3A%22eyJoaWRlVW5hdmFpbGFibGVJdGVtcyI6dHJ1ZSwic2t1c0ZpbHRlciI6IkFMTCIsInNpbXVsYXRpb25CZWhhdmlvciI6ImRlZmF1bHQiLCJpbnN0YWxsbWVudENyaXRlcmlhIjoiTUFYX1dJVEhPVVRfSU5URVJFU1QiLCJwcm9kdWN0T3JpZ2luVnRleCI6ZmFsc2UsIm1hcCI6ImMsYyxjIiwicXVlcnkiOiJjYWx6YWRvL2ZlbWVuaW5vL2JvdGluZXMiLCJvcmRlckJ5IjoiT3JkZXJCeVNjb3JlREVTQyIsImZyb20iOjAsInRvIjoxNywic2VsZWN0ZWRGYWNldHMiOlt7ImtleSI6ImMiLCJ2YWx1ZSI6ImNhbHphZG8ifSx7ImtleSI6ImMiLCJ2YWx1ZSI6ImZlbWVuaW5vIn0seyJrZXkiOiJjIiwidmFsdWUiOiJib3RpbmVzIn1dLCJmYWNldHNCZWhhdmlvciI6IkR5bmFtaWMiLCJjYXRlZ29yeVRyZWVCZWhhdmlvciI6ImRlZmF1bHQiLCJ3aXRoRmFjZXRzIjpmYWxzZSwidmFyaWFudCI6IiJ9%22%7D', fragment='')\n",
      "---\n",
      "{'workspace': ['master'], 'maxAge': ['short'], 'appsEtag': ['remove'], 'domain': ['store'], 'locale': ['es-AR'], '__bindingId': ['7780ff79-9028-4a9e-8025-3bec4cd24948'], 'operationName': ['productSearchV3'], 'variables': ['{}'], 'extensions': ['{\"persistedQuery\":{\"version\":1,\"sha256Hash\":\"40b843ca1f7934d20d05d334916220a0c2cae3833d9f17bcb79cdd2185adceac\",\"sender\":\"vtex.store-resources@0.x\",\"provider\":\"vtex.search-graphql@0.x\"},\"variables\":\"eyJoaWRlVW5hdmFpbGFibGVJdGVtcyI6dHJ1ZSwic2t1c0ZpbHRlciI6IkFMTCIsInNpbXVsYXRpb25CZWhhdmlvciI6ImRlZmF1bHQiLCJpbnN0YWxsbWVudENyaXRlcmlhIjoiTUFYX1dJVEhPVVRfSU5URVJFU1QiLCJwcm9kdWN0T3JpZ2luVnRleCI6ZmFsc2UsIm1hcCI6ImMsYyxjIiwicXVlcnkiOiJjYWx6YWRvL2ZlbWVuaW5vL2JvdGluZXMiLCJvcmRlckJ5IjoiT3JkZXJCeVNjb3JlREVTQyIsImZyb20iOjAsInRvIjoxNywic2VsZWN0ZWRGYWNldHMiOlt7ImtleSI6ImMiLCJ2YWx1ZSI6ImNhbHphZG8ifSx7ImtleSI6ImMiLCJ2YWx1ZSI6ImZlbWVuaW5vIn0seyJrZXkiOiJjIiwidmFsdWUiOiJib3RpbmVzIn1dLCJmYWNldHNCZWhhdmlvciI6IkR5bmFtaWMiLCJjYXRlZ29yeVRyZWVCZWhhdmlvciI6ImRlZmF1bHQiLCJ3aXRoRmFjZXRzIjpmYWxzZSwidmFyaWFudCI6IiJ9\"}']}\n",
      "----\n",
      "eyJoaWRlVW5hdmFpbGFibGVJdGVtcyI6dHJ1ZSwic2t1c0ZpbHRlciI6IkFMTCIsInNpbXVsYXRpb25CZWhhdmlvciI6ImRlZmF1bHQiLCJpbnN0YWxsbWVudENyaXRlcmlhIjoiTUFYX1dJVEhPVVRfSU5URVJFU1QiLCJwcm9kdWN0T3JpZ2luVnRleCI6ZmFsc2UsIm1hcCI6ImMsYyxjIiwicXVlcnkiOiJjYWx6YWRvL2ZlbWVuaW5vL2JvdGluZXMiLCJvcmRlckJ5IjoiT3JkZXJCeVNjb3JlREVTQyIsImZyb20iOjAsInRvIjoxNywic2VsZWN0ZWRGYWNldHMiOlt7ImtleSI6ImMiLCJ2YWx1ZSI6ImNhbHphZG8ifSx7ImtleSI6ImMiLCJ2YWx1ZSI6ImZlbWVuaW5vIn0seyJrZXkiOiJjIiwidmFsdWUiOiJib3RpbmVzIn1dLCJmYWNldHNCZWhhdmlvciI6IkR5bmFtaWMiLCJjYXRlZ29yeVRyZWVCZWhhdmlvciI6ImRlZmF1bHQiLCJ3aXRoRmFjZXRzIjpmYWxzZSwidmFyaWFudCI6IiJ9\n",
      "------\n",
      "--- replace values ---\n",
      "{'hideUnavailableItems': True, 'skusFilter': 'ALL', 'simulationBehavior': 'default', 'installmentCriteria': 'MAX_WITHOUT_INTEREST', 'productOriginVtex': False, 'map': 'c,c,c', 'query': 'calzado/femenino/botines', 'orderBy': 'OrderByScoreDESC', 'from': 0, 'to': 17, 'selectedFacets': [{'key': 'c', 'value': 'calzado'}, {'key': 'c', 'value': 'femenino'}, {'key': 'c', 'value': 'botines'}], 'facetsBehavior': 'Dynamic', 'categoryTreeBehavior': 'default', 'withFacets': False, 'variant': ''}\n"
     ]
    }
   ],
   "source": [
    "#Se dividide en partes la url\n",
    "\n",
    "partesUrl = urllib.parse.urlparse(urlInicial)\n",
    "print(partesUrl)\n",
    "print(\"---\")\n",
    "\n",
    "#Una de las partes es un parámetro \"quey\". Se obtienenen la query para conocer los parámetros necesarias para pedir el request a la API\n",
    "query = urllib.parse.parse_qs(partesUrl.query)\n",
    "print(query)\n",
    "print(\"----\")\n",
    "\n",
    "#Se interpretan las querys para ver como son los pedidos a la API. Las query tienen un parámetro \"extensions\"\n",
    "#que dentro contiene las variables para realizar los pedidos correspondientes a la API para cada categoria\n",
    "extensions = json.loads(query['extensions'][0])\n",
    "\n",
    "#Una vez obtenido 'extensions' se accede a su parámetro 'variables' que es lo que hay que modificar para cada pedido de la API según la categoria \n",
    "variables = extensions['variables']\n",
    "print(variables)\n",
    "print(\"------\")\n",
    "\n",
    "#Las variables vienen codificadas por lo que hay decodificarlas para que las podamos leer e interpretar.\n",
    "variablesDecodificadas = base64.b64decode(variables.encode()).decode()\n",
    "variablesDecodificadas = json.loads(variablesDecodificadas)\n",
    "print('--- replace values ---')\n",
    "print(variablesDecodificadas)"
   ]
  },
  {
   "cell_type": "markdown",
   "id": "da8a4c65-1f8a-4bcc-9b19-709c5e809d52",
   "metadata": {},
   "source": [
    "- De las variables se observa que:\n",
    "  - Hay una clave 'query' que hay que modificar con las categorias.\n",
    "  - La respuesta trae de en principio 18 elementos que van desde lo que se especifica en \"from\" hasta \"to\".\n",
    "  - Dentro de la clave \"selectedFacets\", que es una lista de diccionarios, hay que cambiar las claves 'value' para cada categoría\n",
    "  - Primero hay que cambiar la calve 'query' y las claves de 'value' dentro de 'selectedFacets' para poder conseguir de forma correcta cada URL que haga el pedido a la API. Una vez que se realizó eso luego se puede obtener la respuesta, para analizar cuantos productos tiene cada categoria en total para poder modificar los elementos a traer. \n",
    "  - Hay que realizar el proceso inverso de desarmar la url para ir conviertiendo cada elemento según la categoria, y de esta manera obtener cada url modificada."
   ]
  },
  {
   "cell_type": "code",
   "execution_count": 14,
   "id": "b905bcf2-486f-483a-b808-15d46973be93",
   "metadata": {},
   "outputs": [],
   "source": [
    "#Como es un procedimiento largo, se divide en varios bloques para ir analizando cada paso.\n",
    "#Se crea una lista para guardar cada variable decodificada correspondiente de la lista original.\n",
    "liVariablesDecodificadas = []\n",
    "\n",
    "#Hay que dividir las categorias para obtener los 'value' y luego reemplazarlos en las variables.\n",
    "for link in liQueryCategoria:\n",
    "    #Se divide los valores de la url para tenerlos por separado\n",
    "    valoresSeparado = link.split(\"/\")\n",
    "\n",
    "    #Se crea una copy de cada parametro de la query para que cada copia sea independiente y de esta manera no se pisen.\n",
    "    #Esto se realiza porque como es un elemento string, si se pisan terminan apuntando al mismo elemento de memoria y se modifican todos.\n",
    "    #Se usa deepcopy porque esto permite crear una copia de cada elemento anidado dentro de la variable que estamos copiando\n",
    "    copiaParametrosVariables = copy.deepcopy(variablesDecodificadas)\n",
    "    \n",
    "    #Se modifican los valores\n",
    "    #Primero se modifica la clave 'query' para agregar cada correspondiente categoria.\n",
    "    copiaParametrosVariables[\"query\"] = link\n",
    "\n",
    "    #Se modifican las clave 'value'. Esto se realiza en una lista para que se itere sobre cada elemento. Se agrega una condición if para evitar que se vaya de rango.\n",
    "    for indice, valor in enumerate(copiaParametrosVariables[\"selectedFacets\"]):\n",
    "        if indice < len(valoresSeparado):\n",
    "            valor[\"value\"] = valoresSeparado[indice]\n",
    "    #Se agregan todas las variables decoficadas a la lista. Con esa lista se procede a trabajar en siguiente paso\n",
    "    liVariablesDecodificadas.append(copiaParametrosVariables)"
   ]
  },
  {
   "cell_type": "markdown",
   "id": "224874ff-e512-4c2f-ae8e-34bf1a279ab5",
   "metadata": {},
   "source": [
    "Se recrean las copias de cada string obtenidos en el primer para poder obtener las url que nos redirecciones a cada query"
   ]
  },
  {
   "cell_type": "code",
   "execution_count": 15,
   "id": "e752b6ae-00c2-4490-b5e4-7009c6541806",
   "metadata": {},
   "outputs": [],
   "source": [
    "#En este paso se procede a codificar las variables. Y se las agrega a una nueva lista.\n",
    "liVariablesCodificadas = []\n",
    "for variableDecodificada in liVariablesDecodificadas:\n",
    "    #Se codifica para variable decodificada.\n",
    "    variableDecodificada = json.dumps(variableDecodificada)\n",
    "\n",
    "    #Se crea una copia las variables codificadas.\n",
    "    copiaVariables = copy.deepcopy(variables)\n",
    "\n",
    "    #Se reemplaza el valor con las variables codificadas que se obtuvieron.\n",
    "    copiaVariables = base64.b64encode(variableDecodificada.encode()).decode()\n",
    "    liVariablesCodificadas.append(copiaVariables)"
   ]
  },
  {
   "cell_type": "code",
   "execution_count": 16,
   "id": "8037606c-3b20-4be2-b9cc-601a92ba82e3",
   "metadata": {},
   "outputs": [],
   "source": [
    "#En este paso se agregan las variables ya codificadas al parámetro 'extensions'.\n",
    "liExtensions = []\n",
    "for varCodificada in liVariablesCodificadas:\n",
    "    #Se realiza una copia de la variable 'extensions'\n",
    "    copiaExtensions = copy.deepcopy(extensions)\n",
    "\n",
    "    #Se modifican los valores en 'extensions'\n",
    "    copiaExtensions['variables'] = varCodificada\n",
    "    liExtensions.append(copiaExtensions)"
   ]
  },
  {
   "cell_type": "code",
   "execution_count": 17,
   "id": "aa6cc578-cdf0-48a3-8a12-5c5d57e648cf",
   "metadata": {},
   "outputs": [],
   "source": [
    "liQuerys = []\n",
    "for extension in liExtensions:\n",
    "    copiaQuery = copy.deepcopy(query)\n",
    "    copiaQuery['extensions'][0] = json.dumps(extension)\n",
    "    liQuerys.append(copiaQuery)"
   ]
  },
  {
   "cell_type": "code",
   "execution_count": 22,
   "id": "34d6d2f3-64d2-4f45-86ea-36b5785c4fb5",
   "metadata": {},
   "outputs": [],
   "source": [
    "liPartes = []\n",
    "for queryModificada in liQuerys:\n",
    "    copiaPartes = copy.deepcopy(partesUrl)\n",
    "    copiaPartes = copiaPartes._replace(query=urllib.parse.urlencode(queryModificada, doseq=True))\n",
    "    liPartes.append(copiaPartes)"
   ]
  },
  {
   "cell_type": "code",
   "execution_count": 23,
   "id": "d09658b9-288e-46ee-87c4-d12dc9efe27e",
   "metadata": {},
   "outputs": [],
   "source": [
    "urlLista = []\n",
    "for parteModifica in liPartes:\n",
    "    copiaUrl = copy.deepcopy(urlInicial)\n",
    "    copiaUrl = urllib.parse.urlunparse(parteModifica)\n",
    "    urlLista.append(copiaUrl)"
   ]
  },
  {
   "cell_type": "markdown",
   "id": "57874445-1868-4969-806a-8dd11d2cf1b9",
   "metadata": {},
   "source": [
    "- Una vez obtenidas las URL de cada categoria. Se buscan los productos.\n",
    "- Los productos se filtran según la cantidad de productos que existan en la categoria. Si la categoría tiene más de 18 productos se van a tener que realizar dos requests distintos porque en cada respuesta va a traer 18 productos como maximo.\n",
    "- Para saber cuando productos tiene la categoria hay hacer un GET a la url. Y capturar del diccionario  {productSearch: {recordsFiltered: X}}. El valor de esa variable es la cantidad de productos que hay.\n",
    " - Se crean dos listas:\n",
    "   - Una lista contiene los requests de las categorias que tienen menos de 18 productos, por lo que con esas respuestas ya se puede extraer la información necesaria\n",
    "   - Una lista que contiene los requests de las categorías que tienen más de 18 productos. Esta lista hay que seguir trabajandola para poder obtener la información necesaria"
   ]
  },
  {
   "cell_type": "code",
   "execution_count": 31,
   "id": "06fb2cc7-eac0-46c3-85d0-0bb659a2bbf6",
   "metadata": {},
   "outputs": [],
   "source": [
    "productosFinalizados = []\n",
    "productosSinFinalizar = []\n",
    "userAgent = {'User-Agent': 'Mozilla/5.0 (Windows NT 10.0; Win64; x64) AppleWebKit/537.36 (KHTML, like Gecko) Chrome/89.0.4389.82 Safari/537.36'}\n",
    "#La función se corre con un time.sleep(2) porque con menos fallaba al traer las consultas.\n",
    "for productos in urlLista:\n",
    "    info = requests.get(productos, headers=userAgent)\n",
    "    infoJson = info.json()\n",
    "    cantidadProductos = infoJson[\"data\"][\"productSearch\"][\"recordsFiltered\"]\n",
    "    if cantidadProductos > 0 and cantidadProductos < 19:\n",
    "        productosFinalizados.append(infoJson)\n",
    "    elif cantidadProductos >= 19:\n",
    "        productosSinFinalizar.append(productos)\n",
    "    time.sleep(2)"
   ]
  },
  {
   "cell_type": "code",
   "execution_count": 32,
   "id": "fb8a8ede-fced-4689-87d6-cdce593b7045",
   "metadata": {},
   "outputs": [],
   "source": [
    "with open('productosSinFinalizarUrl.json', 'w') as file:\n",
    "    json.dump(productosSinFinalizar, file)"
   ]
  },
  {
   "cell_type": "code",
   "execution_count": 33,
   "id": "881621b3-77fd-4540-9488-44fed8dcde46",
   "metadata": {},
   "outputs": [],
   "source": [
    "listaProductosFinalizados = []\n",
    "for prod in productosFinalizados:\n",
    "    prodFinalizado = prod[\"data\"][\"productSearch\"][\"products\"]\n",
    "    listaProductosFinalizados.append(prodFinalizado)"
   ]
  },
  {
   "cell_type": "code",
   "execution_count": 34,
   "id": "99d0513d-d5d0-4e01-aa9d-b1cb1867e859",
   "metadata": {},
   "outputs": [],
   "source": [
    "resultados = []\n",
    "for prub in listaProductosFinalizados:\n",
    "    for pr in prub:\n",
    "        nombre = pr['productName']\n",
    "        precio = pr['priceRange']['sellingPrice']['highPrice']\n",
    "        categoria = pr[\"categories\"][0]\n",
    "        link = f'https://www.provinciacompras.com.ar{pr[\"link\"]}'\n",
    "        productoDict = {\"Producto\": nombre,\n",
    "                    \"Precio\": precio,\n",
    "                    \"Link\": link,\n",
    "                    \"Categoria\":categoria}\n",
    "        resultados.append(productoDict)"
   ]
  },
  {
   "cell_type": "code",
   "execution_count": 35,
   "id": "d31cedb4-4117-4ba2-8aee-68ca1bc12c57",
   "metadata": {},
   "outputs": [],
   "source": [
    "resultadosLimpio =[]\n",
    "resultadosLimpio.extend(resultados)"
   ]
  },
  {
   "cell_type": "code",
   "execution_count": 36,
   "id": "800c445c-ee1a-4bbc-a9ce-b5b3c5540887",
   "metadata": {},
   "outputs": [],
   "source": [
    "resultadosDF = pd.DataFrame(resultadosLimpio)"
   ]
  },
  {
   "cell_type": "code",
   "execution_count": 37,
   "id": "baa3ccaf-3b90-4125-ab2a-7e19f421f424",
   "metadata": {},
   "outputs": [
    {
     "data": {
      "text/plain": [
       "pandas.core.frame.DataFrame"
      ]
     },
     "execution_count": 37,
     "metadata": {},
     "output_type": "execute_result"
    }
   ],
   "source": [
    "type(resultadosDF)"
   ]
  },
  {
   "cell_type": "code",
   "execution_count": 38,
   "id": "f1e3367c-7425-4d70-ac37-71e2c006f325",
   "metadata": {},
   "outputs": [],
   "source": [
    "resultadosDF.to_excel(\"ProvCompras.xlsx\",index=False)"
   ]
  },
  {
   "cell_type": "code",
   "execution_count": null,
   "id": "6ca6269f-2f68-4321-a4cc-fb63c292f4bf",
   "metadata": {},
   "outputs": [],
   "source": []
  }
 ],
 "metadata": {
  "kernelspec": {
   "display_name": "Python 3 (ipykernel)",
   "language": "python",
   "name": "python3"
  },
  "language_info": {
   "codemirror_mode": {
    "name": "ipython",
    "version": 3
   },
   "file_extension": ".py",
   "mimetype": "text/x-python",
   "name": "python",
   "nbconvert_exporter": "python",
   "pygments_lexer": "ipython3",
   "version": "3.11.4"
  }
 },
 "nbformat": 4,
 "nbformat_minor": 5
}
